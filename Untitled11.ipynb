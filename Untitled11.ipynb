{
 "cells": [
  {
   "cell_type": "code",
   "execution_count": 5,
   "id": "44524ee2-7e7b-4082-8476-983f6bf7b6f5",
   "metadata": {},
   "outputs": [
    {
     "name": "stdout",
     "output_type": "stream",
     "text": [
      "Probabilitas P(X=k) untuk distribusi binomial: 0.1171875\n"
     ]
    }
   ],
   "source": [
    "#Muhammad Fadhil Ramadhan - 064102400010\n",
    "import math\n",
    "def n_choose_k(n,k): \n",
    "    return math.factorial(n) / (math.factorial(k) * math.factorial(n-k))\n",
    "def binomial_probability(n,k,p):\n",
    "    return n_choose_k(n,k) * (p**k) * ((1-p) ** (n-k))\n",
    "\n",
    "n=10\n",
    "p=0.5\n",
    "k=3\n",
    "\n",
    "prob_binomial = binomial_probability(n,k,p)\n",
    "print(\"Probabilitas P(X=k) untuk distribusi binomial:\", prob_binomial)"
   ]
  },
  {
   "cell_type": "code",
   "execution_count": 11,
   "id": "cbfe1ea4-4ac5-4482-8cac-d70dae074a47",
   "metadata": {},
   "outputs": [
    {
     "name": "stdout",
     "output_type": "stream",
     "text": [
      "Probabilitas P(X=k) Untuk distributsi binomial: 0.1171875\n"
     ]
    }
   ],
   "source": [
    "# Muhammad Fadhil Ramadhan - 064102400010\n",
    "from scipy.stats import binom\n",
    "\n",
    "n=10\n",
    "p=0.5\n",
    "k=3\n",
    "\n",
    "prob_binomial = binom.pmf(k,n,p)\n",
    "print(\"Probabilitas P(X=k) Untuk distributsi binomial:\", prob_binomial)"
   ]
  },
  {
   "cell_type": "code",
   "execution_count": 23,
   "id": "bf19981d-3f9f-4203-9ff4-c5d4e917f2a7",
   "metadata": {},
   "outputs": [
    {
     "name": "stdout",
     "output_type": "stream",
     "text": [
      "Probabilitas P(X=k) untuk distribusi Poisson: 0.22404180765538775\n"
     ]
    }
   ],
   "source": [
    "# Muhammad Fadhil Ramadhan - 064102400010\n",
    "import math\n",
    "def poisson_probability(lambd, k):\n",
    "    return (lambd**k)*math.exp(-lambd)/math.factorial(k)\n",
    "\n",
    "lambd = 3\n",
    "k = 2\n",
    "\n",
    "prob_poisson = poisson_probability(lambd, k)\n",
    "print(\"Probabilitas P(X=k) untuk distribusi Poisson:\", prob_poisson)"
   ]
  },
  {
   "cell_type": "code",
   "execution_count": 25,
   "id": "734a2759-c45d-4e04-b581-b0386392fea7",
   "metadata": {},
   "outputs": [
    {
     "name": "stdout",
     "output_type": "stream",
     "text": [
      "Probabilitias P(X=k) untuk distribusi Poisson: 0.14652511110987343\n"
     ]
    }
   ],
   "source": [
    "# Muhammad Fadhil Ramadhan - 064102400010\n",
    "from scipy.stats import poisson\n",
    "\n",
    "lambd = 4\n",
    "k = 2\n",
    "\n",
    "prob_poisson = poisson.pmf(k,lambd)\n",
    "print(\"Probabilitias P(X=k) untuk distribusi Poisson:\", prob_poisson)"
   ]
  },
  {
   "cell_type": "code",
   "execution_count": 27,
   "id": "25a73ada-14a3-4e01-97a0-65e3d30bca12",
   "metadata": {},
   "outputs": [
    {
     "name": "stdout",
     "output_type": "stream",
     "text": [
      "0.1285054390988551\n"
     ]
    }
   ],
   "source": [
    "# Muhammad Fadhil Ramadhan - 064102400010\n",
    "from scipy import stats\n",
    "X= stats.binom(15, 0.1)\n",
    "print(X.pmf(3)) #p(X=3)"
   ]
  },
  {
   "cell_type": "code",
   "execution_count": 29,
   "id": "6df49c11-9018-446c-a17f-66f1f2123a64",
   "metadata": {},
   "outputs": [
    {
     "name": "stdout",
     "output_type": "stream",
     "text": [
      "0.8159389308936089\n"
     ]
    }
   ],
   "source": [
    "# Muhammad Fadhil Ramadhan - 064102400010\n",
    "print(X.cdf(2)) #P(X<=2)"
   ]
  },
  {
   "cell_type": "code",
   "execution_count": 31,
   "id": "f5659d5d-75b0-4b38-b0c4-4e69ac4882ec",
   "metadata": {},
   "outputs": [
    {
     "name": "stdout",
     "output_type": "stream",
     "text": [
      "0.002216045197080002\n"
     ]
    }
   ],
   "source": [
    "# Muhammad Fadhil Ramadhan - 064102400010\n",
    "print(X.pmf(6)+X.pmf(7))"
   ]
  },
  {
   "cell_type": "code",
   "execution_count": 33,
   "id": "cf81a2ae-90af-41e7-89d5-ca50e1264363",
   "metadata": {},
   "outputs": [
    {
     "name": "stdout",
     "output_type": "stream",
     "text": [
      "0.17546736976785063\n"
     ]
    }
   ],
   "source": [
    "# Muhammad Fadhil Ramadhan - 064102400010\n",
    "Y = stats.poisson(5)\n",
    "print(Y.pmf(4))"
   ]
  },
  {
   "cell_type": "code",
   "execution_count": 35,
   "id": "ab464dd3-9631-4435-b6ce-d9d63bceef7e",
   "metadata": {},
   "outputs": [
    {
     "name": "stdout",
     "output_type": "stream",
     "text": [
      "0.17886305056987967\n"
     ]
    }
   ],
   "source": [
    "# Muhammad Fadhil Ramadhan - 064102400010\n",
    "from scipy import stats\n",
    "X = stats.binom(20, 0.7)\n",
    "pmf_15 = X.pmf(15)\n",
    "\n",
    "print(pmf_15)"
   ]
  },
  {
   "cell_type": "code",
   "execution_count": 37,
   "id": "270cefa2-beaa-4094-8400-ef178795d2f4",
   "metadata": {},
   "outputs": [
    {
     "name": "stdout",
     "output_type": "stream",
     "text": [
      "0.18044704431548356\n"
     ]
    }
   ],
   "source": [
    "# Muhammad Fadhil Ramadhan - 064102400010\n",
    "from scipy import stats\n",
    "Y = stats.poisson(2)\n",
    "print(Y.pmf(3))"
   ]
  },
  {
   "cell_type": "code",
   "execution_count": 39,
   "id": "c0a3e95b-7167-493e-a778-872ea7488455",
   "metadata": {},
   "outputs": [
    {
     "name": "stdout",
     "output_type": "stream",
     "text": [
      "Probabilitas bahwa tepat 5 dari 15 perangkat mengalami kegagalan: 0.2061\n"
     ]
    }
   ],
   "source": [
    "# Muhammad Fadhil Ramadhan - 064102400010\n",
    "n = 15\n",
    "p = 0.3\n",
    "k = 5\n",
    "\n",
    "probability = binom.pmf(k,n,p)\n",
    "print(f\"Probabilitas bahwa tepat {k} dari {n} perangkat mengalami kegagalan: {probability:.4f}\")"
   ]
  },
  {
   "cell_type": "code",
   "execution_count": null,
   "id": "f9916356-a4bb-4ac5-a161-6e258e9ff9c6",
   "metadata": {},
   "outputs": [],
   "source": []
  }
 ],
 "metadata": {
  "kernelspec": {
   "display_name": "Python [conda env:base] *",
   "language": "python",
   "name": "conda-base-py"
  },
  "language_info": {
   "codemirror_mode": {
    "name": "ipython",
    "version": 3
   },
   "file_extension": ".py",
   "mimetype": "text/x-python",
   "name": "python",
   "nbconvert_exporter": "python",
   "pygments_lexer": "ipython3",
   "version": "3.12.7"
  }
 },
 "nbformat": 4,
 "nbformat_minor": 5
}
